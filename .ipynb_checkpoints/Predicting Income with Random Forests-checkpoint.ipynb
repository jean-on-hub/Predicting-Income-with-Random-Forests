{
 "cells": [
  {
   "cell_type": "code",
   "execution_count": 14,
   "id": "30da8bd6",
   "metadata": {},
   "outputs": [
    {
     "name": "stdout",
     "output_type": "stream",
     "text": [
      "0.8272939442328953\n",
      "0.8276624493305491\n"
     ]
    }
   ],
   "source": [
    "def warn(*args, **kwargs):\n",
    "    pass\n",
    "import warnings\n",
    "warnings.warn = warn\n",
    "\n",
    "import pandas as pd\n",
    "from sklearn.model_selection import train_test_split\n",
    "from sklearn import tree\n",
    "from sklearn.ensemble import RandomForestClassifier\n",
    "# import and analyse data\n",
    "income_data = pd.read_csv(\"income.csv\", header =0,delimiter = \", \")\n",
    "# print(income_data.iloc[0])\n",
    "income_data[\"sex-int\"] = income_data[\"sex\"].apply(lambda row: 0 if row == \"Male\" else 1)\n",
    "\n",
    "# seperate the data\n",
    "\n",
    "labels = income_data[[\"income\"]]\n",
    "data = income_data[[\"age\", \"capital-gain\", \"capital-loss\", \"hours-per-week\",\"sex-int\"]]\n",
    "# training and test data\n",
    "train_data, test_data, train_labels, test_labels = train_test_split(data, labels ,random_state = 1)\n",
    "# create classifier and check score\n",
    "forest = RandomForestClassifier(random_state = 1)\n",
    "forest.fit(train_data,train_labels)\n",
    "print(forest.score(test_data,test_labels))\n",
    " \n",
    "\n",
    "# add new columns to the forest\n",
    "\n",
    "\n",
    "# print(income_data[\"native-country\"].value_counts())\n",
    "\n",
    "# make a row for in and out of united states\n",
    "income_data[\"country-int\"] = income_data[\"sex\"].apply(lambda row: 0 if row == \"United-States\" else 1)\n",
    "data = income_data[[\"age\", \"capital-gain\", \"capital-loss\", \"hours-per-week\",\"sex-int\",\"country-int\"]]\n",
    "\n",
    "# training and test data\n",
    "train_data, test_data, train_labels, test_labels = train_test_split(data, labels ,random_state = 1)\n",
    "# create classifier and check score\n",
    "forest = RandomForestClassifier(random_state = 1)\n",
    "forest.fit(train_data,train_labels)\n",
    "print(forest.score(test_data,test_labels))"
   ]
  },
  {
   "cell_type": "code",
   "execution_count": 3,
   "id": "1be02353",
   "metadata": {},
   "outputs": [
    {
     "data": {
      "text/plain": [
       "Index(['age', 'workclass', 'fnlwgt', 'education', 'education-num',\n",
       "       'marital-status', 'occupation', 'relationship', 'race', 'sex',\n",
       "       'capital-gain', 'capital-loss', 'hours-per-week', 'native-country',\n",
       "       'income', 'sex-int'],\n",
       "      dtype='object')"
      ]
     },
     "execution_count": 3,
     "metadata": {},
     "output_type": "execute_result"
    }
   ],
   "source": [
    "income_data.columns"
   ]
  },
  {
   "cell_type": "code",
   "execution_count": 22,
   "id": "a05a3173",
   "metadata": {},
   "outputs": [
    {
     "name": "stdout",
     "output_type": "stream",
     "text": [
      "0.8335585308930107\n"
     ]
    }
   ],
   "source": [
    "#decision tree\n",
    "from sklearn.tree import DecisionTreeClassifier\n",
    "tree = DecisionTreeClassifier(random_state = 1, max_depth = 12)\n",
    "tree.fit(train_data,train_labels)\n",
    "print(tree.score(test_data,test_labels))\n",
    "# the tree is more accurate than the forest when the max_depth is set correctly at 12 in  this case"
   ]
  },
  {
   "cell_type": "code",
   "execution_count": 23,
   "id": "f97bff73",
   "metadata": {},
   "outputs": [
    {
     "data": {
      "text/plain": [
       "array([0.30707084, 0.3047428 , 0.1214073 , 0.2007971 , 0.06598195,\n",
       "       0.        ])"
      ]
     },
     "execution_count": 23,
     "metadata": {},
     "output_type": "execute_result"
    }
   ],
   "source": [
    "forest.fit(train_data,train_labels)\n",
    "forest.feature_importances_"
   ]
  },
  {
   "cell_type": "code",
   "execution_count": null,
   "id": "f2ea4c98",
   "metadata": {},
   "outputs": [],
   "source": []
  }
 ],
 "metadata": {
  "kernelspec": {
   "display_name": "Python 3",
   "language": "python",
   "name": "python3"
  },
  "language_info": {
   "codemirror_mode": {
    "name": "ipython",
    "version": 3
   },
   "file_extension": ".py",
   "mimetype": "text/x-python",
   "name": "python",
   "nbconvert_exporter": "python",
   "pygments_lexer": "ipython3",
   "version": "3.8.8"
  }
 },
 "nbformat": 4,
 "nbformat_minor": 5
}
